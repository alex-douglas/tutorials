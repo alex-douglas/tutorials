{
 "cells": [
  {
   "cell_type": "markdown",
   "metadata": {},
   "source": [
    "# Pymongo Tutorial\n",
    "\n",
    "This notebook goes through a quick, easy example of how to use **pymongo**, a python library, to work with **MongoDB**, a NoSQL database program.\n",
    "\n",
    "If you don't already have MongoDB installed on your system (assuming mac/linux operating system) follow the directions found [here](https://docs.mongodb.com/manual/tutorial/install-mongodb-on-ubuntu/) or type the following commands into the terminal:\n",
    "\n",
    "1. `sudo apt-key adv --keyserver hkp://keyserver.ubuntu.com:80 --recv 0C49F3730359A14518585931BC711F9BA15703C6`\n",
    "2. `echo \"deb [ arch=amd64,arm64 ] http://repo.mongodb.org/apt/ubuntu xenial/mongodb-org/3.4 multiverse\" | sudo tee /etc/apt/sources.list.d/mongodb-org-3.4.list`\n",
    "\n",
    "3. `sudo apt-get update`\n",
    "4. `sudo apt-get install -y mongodb-org`"
   ]
  },
  {
   "cell_type": "code",
   "execution_count": 1,
   "metadata": {
    "collapsed": true
   },
   "outputs": [],
   "source": [
    "# if pymongo not installed on system, run 'sudo pip install pymongo' from the terminal\n",
    "from pymongo import MongoClient"
   ]
  },
  {
   "cell_type": "code",
   "execution_count": 2,
   "metadata": {
    "collapsed": true
   },
   "outputs": [],
   "source": [
    "# get our MongoClient object\n",
    "client = MongoClient()"
   ]
  },
  {
   "cell_type": "markdown",
   "metadata": {},
   "source": [
    "The mongo [daemon process](https://docs.mongodb.com/manual/reference/program/mongod/) must be running in order for you to access your databases. Unless you set up your system so that the daemon runs in the background (see [here](https://serverfault.com/questions/157705/how-can-i-run-mongod-in-the-background-on-unix-mac-osx) for a discussion of how to do this), you'll need to run `sudo mongod` in the terminal, which will occupy that terminal tab while the daemon is running.\n",
    "\n",
    "If the daemon isn't running, you'll most likely get a `ServerSelectionTimeoutError` when you run the code immediately below."
   ]
  },
  {
   "cell_type": "code",
   "execution_count": 3,
   "metadata": {},
   "outputs": [
    {
     "data": {
      "text/plain": [
       "['admin', 'local']"
      ]
     },
     "execution_count": 3,
     "metadata": {},
     "output_type": "execute_result"
    }
   ],
   "source": [
    "# list existing databases, 'admin' and 'local' are automatically created when MongoDB is installed\n",
    "client.database_names()"
   ]
  },
  {
   "cell_type": "code",
   "execution_count": 4,
   "metadata": {
    "collapsed": true
   },
   "outputs": [],
   "source": [
    "# MongoDB will automatically create a database if it doesn't already exist,\n",
    "# so the below code can be used to access an existing database or create a new one\n",
    "test_db = client.get_database('test')"
   ]
  },
  {
   "cell_type": "code",
   "execution_count": 5,
   "metadata": {},
   "outputs": [
    {
     "data": {
      "text/plain": [
       "[]"
      ]
     },
     "execution_count": 5,
     "metadata": {},
     "output_type": "execute_result"
    }
   ],
   "source": [
    "# list existing collections within a database\n",
    "test_db.collection_names()"
   ]
  },
  {
   "cell_type": "code",
   "execution_count": 6,
   "metadata": {
    "collapsed": true
   },
   "outputs": [],
   "source": [
    "# As with databases, mongoDB will automatically create a collection if it didn't already exist\n",
    "test_collection = test_db['test_collection']"
   ]
  },
  {
   "cell_type": "code",
   "execution_count": 7,
   "metadata": {
    "collapsed": true
   },
   "outputs": [],
   "source": [
    "# our sample documents to insert into the test_collection\n",
    "dictionary_items = []\n",
    "\n",
    "dictionary_items.append({'name': 'bandit', 'type': 'cat', 'age': 7, 'friendly': False})\n",
    "dictionary_items.append({'name': 'alfred', 'type': 'dog', 'age': 5, 'friendly': True })\n",
    "dictionary_items.append({'name': 'lillie', 'type': 'cat', 'age': 9, 'friendly': True })"
   ]
  },
  {
   "cell_type": "code",
   "execution_count": 8,
   "metadata": {},
   "outputs": [],
   "source": [
    "# insert our documents into the test_collection\n",
    "\n",
    "for item in dictionary_items:\n",
    "    test_collection.insert_one(item)"
   ]
  },
  {
   "cell_type": "code",
   "execution_count": 9,
   "metadata": {},
   "outputs": [
    {
     "data": {
      "text/plain": [
       "3"
      ]
     },
     "execution_count": 9,
     "metadata": {},
     "output_type": "execute_result"
    }
   ],
   "source": [
    "# how many documents are in our collection?\n",
    "test_collection.count()"
   ]
  },
  {
   "cell_type": "code",
   "execution_count": 10,
   "metadata": {},
   "outputs": [
    {
     "name": "stdout",
     "output_type": "stream",
     "text": [
      "['admin', 'local', 'test']\n",
      "['test_collection']\n"
     ]
    }
   ],
   "source": [
    "# now that there are documents in our new collection in our new database,\n",
    "# both the collection and database will show up when we print our databases and collections\n",
    "\n",
    "print(client.database_names())\n",
    "print(test_db.collection_names())"
   ]
  },
  {
   "cell_type": "markdown",
   "metadata": {},
   "source": [
    "In general, the easiest way to go through a collection is to generate a cursor object with `find()` and iterate through each document."
   ]
  },
  {
   "cell_type": "code",
   "execution_count": 11,
   "metadata": {},
   "outputs": [
    {
     "name": "stdout",
     "output_type": "stream",
     "text": [
      "{'_id': ObjectId('59a347aaacef4a062aaf2997'), 'name': 'bandit', 'type': 'cat', 'age': 7, 'friendly': False}\n",
      "{'_id': ObjectId('59a347aaacef4a062aaf2998'), 'name': 'alfred', 'type': 'dog', 'age': 5, 'friendly': True}\n",
      "{'_id': ObjectId('59a347aaacef4a062aaf2999'), 'name': 'lillie', 'type': 'cat', 'age': 9, 'friendly': True}\n"
     ]
    }
   ],
   "source": [
    "for doc in test_collection.find():\n",
    "    print(doc)"
   ]
  },
  {
   "cell_type": "code",
   "execution_count": 12,
   "metadata": {},
   "outputs": [
    {
     "name": "stdout",
     "output_type": "stream",
     "text": [
      "Name: bandit, Age: 7\n",
      "Name: alfred, Age: 5\n",
      "Name: lillie, Age: 9\n"
     ]
    }
   ],
   "source": [
    "for doc in test_collection.find():\n",
    "    print('Name: ', doc['name'], ', Age: ', doc['age'], sep='')"
   ]
  },
  {
   "cell_type": "code",
   "execution_count": 13,
   "metadata": {
    "collapsed": true
   },
   "outputs": [],
   "source": [
    "# to add an additional key to a document, we use find() to iterate through, and filter using _id,\n",
    "# which is an automatically generated unique id for each document.\n",
    "# update_one() allows us to update the document, and $set assigns the new key and value.\n",
    "# you can also update an existing value with this same method (not shown here)\n",
    "\n",
    "for doc in test_collection.find():\n",
    "    if doc['friendly']:\n",
    "        test_collection.update_one({'_id': doc['_id']}, {'$set': {'good_with_kids': True}})\n",
    "    else:\n",
    "        test_collection.update_one({'_id': doc['_id']}, {'$set': {'good_with_kids': False}})"
   ]
  },
  {
   "cell_type": "code",
   "execution_count": 14,
   "metadata": {},
   "outputs": [
    {
     "name": "stdout",
     "output_type": "stream",
     "text": [
      "{'_id': ObjectId('59a347aaacef4a062aaf2997'), 'name': 'bandit', 'type': 'cat', 'age': 7, 'friendly': False, 'good_with_kids': False}\n",
      "{'_id': ObjectId('59a347aaacef4a062aaf2998'), 'name': 'alfred', 'type': 'dog', 'age': 5, 'friendly': True, 'good_with_kids': True}\n",
      "{'_id': ObjectId('59a347aaacef4a062aaf2999'), 'name': 'lillie', 'type': 'cat', 'age': 9, 'friendly': True, 'good_with_kids': True}\n"
     ]
    }
   ],
   "source": [
    "for doc in test_collection.find():\n",
    "    print(doc)"
   ]
  },
  {
   "cell_type": "code",
   "execution_count": 15,
   "metadata": {},
   "outputs": [
    {
     "data": {
      "text/plain": [
       "<pymongo.results.DeleteResult at 0x10f2cdd48>"
      ]
     },
     "execution_count": 15,
     "metadata": {},
     "output_type": "execute_result"
    }
   ],
   "source": [
    "# we can easily delete documents based on key values\n",
    "# you can also assign this result to a variable if you need to reference the deleted items\n",
    "\n",
    "test_collection.delete_many({'friendly': True})"
   ]
  },
  {
   "cell_type": "code",
   "execution_count": 16,
   "metadata": {},
   "outputs": [
    {
     "name": "stdout",
     "output_type": "stream",
     "text": [
      "{'_id': ObjectId('59a347aaacef4a062aaf2997'), 'name': 'bandit', 'type': 'cat', 'age': 7, 'friendly': False, 'good_with_kids': False}\n"
     ]
    }
   ],
   "source": [
    "for doc in test_collection.find():\n",
    "    print(doc)"
   ]
  },
  {
   "cell_type": "code",
   "execution_count": 17,
   "metadata": {
    "collapsed": true
   },
   "outputs": [],
   "source": [
    "# if you need to delete multiple documents based on more complicated criteria, iterate through like we did for updating\n",
    "\n",
    "for doc in test_collection.find():\n",
    "    if doc['age'] <= 7:\n",
    "        test_collection.delete_one({'_id': doc['_id']})"
   ]
  },
  {
   "cell_type": "code",
   "execution_count": 18,
   "metadata": {},
   "outputs": [
    {
     "data": {
      "text/plain": [
       "0"
      ]
     },
     "execution_count": 18,
     "metadata": {},
     "output_type": "execute_result"
    }
   ],
   "source": [
    "test_collection.count()"
   ]
  },
  {
   "cell_type": "code",
   "execution_count": 19,
   "metadata": {},
   "outputs": [
    {
     "data": {
      "text/plain": [
       "{'nIndexesWas': 1, 'ns': 'test.test_collection', 'ok': 1.0}"
      ]
     },
     "execution_count": 19,
     "metadata": {},
     "output_type": "execute_result"
    }
   ],
   "source": [
    "# to get rid of a collection, we use drop_collection()\n",
    "\n",
    "test_db.drop_collection('test_collection')"
   ]
  },
  {
   "cell_type": "code",
   "execution_count": 20,
   "metadata": {
    "collapsed": true
   },
   "outputs": [],
   "source": [
    "# to get rid of a database, we use drop_database()\n",
    "\n",
    "client.drop_database('test')"
   ]
  }
 ],
 "metadata": {
  "kernelspec": {
   "display_name": "Python 3",
   "language": "python",
   "name": "python3"
  },
  "language_info": {
   "codemirror_mode": {
    "name": "ipython",
    "version": 3
   },
   "file_extension": ".py",
   "mimetype": "text/x-python",
   "name": "python",
   "nbconvert_exporter": "python",
   "pygments_lexer": "ipython3",
   "version": "3.6.1"
  }
 },
 "nbformat": 4,
 "nbformat_minor": 2
}
