{
 "cells": [
  {
   "attachments": {},
   "cell_type": "markdown",
   "metadata": {},
   "source": [
    "# 1. Introduction\n",
    "### Advertising Campaigns\n",
    "Businesses often create advertising campaigns to increase business performance. The business goal can be increasing the frequency or amount of customer purchases (*deep selling*), encouraging customers to upgrade (*up selling*), trying to sell a new product to customers (*cross selling*), or some other goal such as acquiring completely new customers.\n",
    "\n",
    "When a customer has been targeted by an advertising campaign, we say this customer has been *treated*, while the advertisement itself is the *treatment*. Advertising campaigns can take many forms, and almost everyone is familiar with the most common forms: mailed advertisements, promotional email campaigns, or promoted online search engine results. An important point here is that deploying an advertising campaign costs money -- every letter we mail or online ad we pay for costs something, so it's important that we're targeting the right people. If we send an ad to 100,000 people for \\$0.25 per ad, and none of the customers are persuaded by the ad, we just wasted \\$25,000.\n",
    "### Uplift Modeling\n",
    "**Uplift modeling** is a machine learning technique that allows us to identify those customers most likely to be persuaded by an advertising campaign, while avoiding those customers who are immune to the campaign as well as those who would be less likely to purchase after receiving an advertisement (called \"do-not-disturbs\" -- they could be put-off for a number of reasons, such as being reminded of an active subscription they want to cancel, or being annoyed at receiving an ad). The framework for uplift modeling is rather straight-forward: customers are *randomly* assigned to the *treatment* or *control* group, i.e. to be targeted by the advertisement or not, which allows us to infer the causal relationship between treatment and outcome.\n",
    "\n",
    "For this workbook, I employ the basic \"Two-Model Method\", which involves training two probabilistic binary classifier models on the treatment and control groups. For each sample in a holdout set, I calculate the probability of purchase (or whatever target we've selected for the given problem) if the sample is treated or not treated. The difference is the predicted *uplift* caused by the treatment.\n",
    "\n",
    "An important, if perhaps obvious, point is that we can never know the counter-factual case for each individual in our dataset, i.e. we can never know how a customer would respond both if they were targeted and if the advertisement was withheld. Instead, we must rely on the methodology previously mentioned, which allows us to at least profile the type of customer that responds favorably to an advertising campaign. In future campaigns, we could then run the potential customer population through our modeling framework and select only those most likely to be persuaded by the campaign.\n",
    "\n",
    "The evaluation of this modeling framework is the most critical part of the uplift modeling process, and a bit less intuitive than the modeling step itself. Below I explain each step in the evaluation process, as well as the code that makes this evaluation possible.\n",
    "\n",
    "### CRITEO Dataset\n",
    "For this project, I use the [CRITEO Uplift Prediction Dataset](http://cail.criteo.com/criteo-uplift-prediction-dataset/), which is a collection of 25M individual-level samples from an online advertising campaign. The target is visiting the advertiser's website, and includes 12 randomly projected feature variables for each sample.\n",
    "\n",
    "My step-by-step process is a replication of the work done by the original authors of the dataset, who detail their process in [a paper](https://s3.us-east-2.amazonaws.com/criteo-uplift-dataset/large-scale-benchmark.pdf) released along with the CRITEO dataset. "
   ]
  },
  {
   "cell_type": "markdown",
   "metadata": {},
   "source": [
    "# 2. Read in the Data & Sanity Checks\n",
    "Similar to the authors of the original paper, after loading the dataset (available at link in above section), I confirm two things:\n",
    "1. Customers in the control group were not exposed to the advertisement. If customers who were not supposed to be shown the advertisement were in fact shown the advertisement, this compromises the random nature of the experiment and would compromise the causality assumption we're trying to infer from treatment. The authors claimed only a small rate of non-compliance, and dropped those rows from the dataset, so we should find zero rows.\n",
    "2. The features are actually able to predict the target. If the feature variables provided in the dataset aren't able to predict the target (visiting the advertiser's website), there's not much point in the exercise. To confirm this, I train a simple logistic regression classifier and examine its log-loss improvement over a baseline model."
   ]
  },
  {
   "cell_type": "code",
   "execution_count": 1,
   "metadata": {
    "collapsed": true
   },
   "outputs": [],
   "source": [
    "# typical packages\n",
    "import numpy as np\n",
    "import pandas as pd\n",
    "import random\n",
    "# classification packages\n",
    "import sklearn.linear_model as lm\n",
    "import sklearn.metrics as metrics\n",
    "# visualization packages\n",
    "import matplotlib.pyplot as plt\n",
    "import seaborn as sns"
   ]
  },
  {
   "cell_type": "code",
   "execution_count": 2,
   "metadata": {
    "collapsed": true
   },
   "outputs": [],
   "source": [
    "%matplotlib inline"
   ]
  },
  {
   "cell_type": "code",
   "execution_count": 3,
   "metadata": {
    "collapsed": true
   },
   "outputs": [],
   "source": [
    "# define file location\n",
    "file = '/Users/adouglas/Downloads/criteo-uplift.csv'"
   ]
  },
  {
   "cell_type": "code",
   "execution_count": 4,
   "metadata": {},
   "outputs": [],
   "source": [
    "# since the actual dataset is over 25M lines long, and I'm doing this work on my local machine,\n",
    "# I need to read in a subset of the data. Still should be performative enough to accurately model uplift\n",
    "\n",
    "# number of rows to sample\n",
    "sample_rows = 100000\n",
    "\n",
    "# number of rows in dataset\n",
    "num_lines = sum(1 for l in open(file))\n",
    "\n",
    "# index of rows we'll be skipping, for pandas' read_csv method\n",
    "skip_idx = random.sample(range(1, num_lines), num_lines - sample_rows - 1)"
   ]
  },
  {
   "cell_type": "code",
   "execution_count": 5,
   "metadata": {
    "collapsed": true
   },
   "outputs": [],
   "source": [
    "# read in the file, with randomly selected subset of rows\n",
    "data = pd.read_csv(file, skiprows=skip_idx)"
   ]
  },
  {
   "cell_type": "code",
   "execution_count": 6,
   "metadata": {},
   "outputs": [
    {
     "name": "stdout",
     "output_type": "stream",
     "text": [
      "(100000, 16)\n"
     ]
    },
    {
     "data": {
      "text/html": [
       "<div>\n",
       "<style scoped>\n",
       "    .dataframe tbody tr th:only-of-type {\n",
       "        vertical-align: middle;\n",
       "    }\n",
       "\n",
       "    .dataframe tbody tr th {\n",
       "        vertical-align: top;\n",
       "    }\n",
       "\n",
       "    .dataframe thead th {\n",
       "        text-align: right;\n",
       "    }\n",
       "</style>\n",
       "<table border=\"1\" class=\"dataframe\">\n",
       "  <thead>\n",
       "    <tr style=\"text-align: right;\">\n",
       "      <th></th>\n",
       "      <th>f0</th>\n",
       "      <th>f1</th>\n",
       "      <th>f2</th>\n",
       "      <th>f3</th>\n",
       "      <th>f4</th>\n",
       "      <th>f5</th>\n",
       "      <th>f6</th>\n",
       "      <th>f7</th>\n",
       "      <th>f8</th>\n",
       "      <th>f9</th>\n",
       "      <th>f10</th>\n",
       "      <th>f11</th>\n",
       "      <th>treatment</th>\n",
       "      <th>conversion</th>\n",
       "      <th>visit</th>\n",
       "      <th>exposure</th>\n",
       "    </tr>\n",
       "  </thead>\n",
       "  <tbody>\n",
       "    <tr>\n",
       "      <th>38018</th>\n",
       "      <td>1.991981</td>\n",
       "      <td>3.263641</td>\n",
       "      <td>8.272483</td>\n",
       "      <td>3.735871</td>\n",
       "      <td>3.506733</td>\n",
       "      <td>10.161281</td>\n",
       "      <td>2.981721</td>\n",
       "      <td>-0.166689</td>\n",
       "      <td>1.107571</td>\n",
       "      <td>9.850093</td>\n",
       "      <td>-1.8609</td>\n",
       "      <td>4.157648</td>\n",
       "      <td>1</td>\n",
       "      <td>0</td>\n",
       "      <td>0</td>\n",
       "      <td>0</td>\n",
       "    </tr>\n",
       "    <tr>\n",
       "      <th>53530</th>\n",
       "      <td>1.991981</td>\n",
       "      <td>3.263641</td>\n",
       "      <td>9.010079</td>\n",
       "      <td>3.735871</td>\n",
       "      <td>3.506733</td>\n",
       "      <td>10.161281</td>\n",
       "      <td>2.981721</td>\n",
       "      <td>-0.166689</td>\n",
       "      <td>-15.258404</td>\n",
       "      <td>9.850093</td>\n",
       "      <td>-1.8609</td>\n",
       "      <td>4.157648</td>\n",
       "      <td>1</td>\n",
       "      <td>0</td>\n",
       "      <td>0</td>\n",
       "      <td>0</td>\n",
       "    </tr>\n",
       "    <tr>\n",
       "      <th>60852</th>\n",
       "      <td>-1.286884</td>\n",
       "      <td>3.263641</td>\n",
       "      <td>8.272483</td>\n",
       "      <td>3.735871</td>\n",
       "      <td>3.506733</td>\n",
       "      <td>10.161281</td>\n",
       "      <td>0.945163</td>\n",
       "      <td>-0.166689</td>\n",
       "      <td>1.107571</td>\n",
       "      <td>9.850093</td>\n",
       "      <td>-1.8609</td>\n",
       "      <td>4.157648</td>\n",
       "      <td>1</td>\n",
       "      <td>0</td>\n",
       "      <td>0</td>\n",
       "      <td>0</td>\n",
       "    </tr>\n",
       "  </tbody>\n",
       "</table>\n",
       "</div>"
      ],
      "text/plain": [
       "             f0        f1        f2        f3        f4         f5        f6  \\\n",
       "38018  1.991981  3.263641  8.272483  3.735871  3.506733  10.161281  2.981721   \n",
       "53530  1.991981  3.263641  9.010079  3.735871  3.506733  10.161281  2.981721   \n",
       "60852 -1.286884  3.263641  8.272483  3.735871  3.506733  10.161281  0.945163   \n",
       "\n",
       "             f7         f8        f9     f10       f11  treatment  conversion  \\\n",
       "38018 -0.166689   1.107571  9.850093 -1.8609  4.157648          1           0   \n",
       "53530 -0.166689 -15.258404  9.850093 -1.8609  4.157648          1           0   \n",
       "60852 -0.166689   1.107571  9.850093 -1.8609  4.157648          1           0   \n",
       "\n",
       "       visit  exposure  \n",
       "38018      0         0  \n",
       "53530      0         0  \n",
       "60852      0         0  "
      ]
     },
     "execution_count": 6,
     "metadata": {},
     "output_type": "execute_result"
    }
   ],
   "source": [
    "# examine the data\n",
    "print(data.shape)\n",
    "data.sample(3)"
   ]
  },
  {
   "cell_type": "code",
   "execution_count": 7,
   "metadata": {},
   "outputs": [
    {
     "data": {
      "text/plain": [
       "1    0.84537\n",
       "0    0.15463\n",
       "Name: treatment, dtype: float64"
      ]
     },
     "execution_count": 7,
     "metadata": {},
     "output_type": "execute_result"
    }
   ],
   "source": [
    "# what's the precentage of 'treatment'?\n",
    "data['treatment'].value_counts(normalize=True)"
   ]
  },
  {
   "cell_type": "code",
   "execution_count": 8,
   "metadata": {},
   "outputs": [
    {
     "data": {
      "text/plain": [
       "0    0.95953\n",
       "1    0.04047\n",
       "Name: visit, dtype: float64"
      ]
     },
     "execution_count": 8,
     "metadata": {},
     "output_type": "execute_result"
    }
   ],
   "source": [
    "# what's our baseline expectation for 'visit'?\n",
    "data['visit'].value_counts(normalize=True)"
   ]
  },
  {
   "cell_type": "markdown",
   "metadata": {},
   "source": [
    "#### Sanity Check 1: Are Control Group Members Exposed to Treatment?"
   ]
  },
  {
   "cell_type": "code",
   "execution_count": 9,
   "metadata": {},
   "outputs": [
    {
     "data": {
      "text/plain": [
       "0    15463\n",
       "Name: exposure, dtype: int64"
      ]
     },
     "execution_count": 9,
     "metadata": {},
     "output_type": "execute_result"
    }
   ],
   "source": [
    "# should be zero positive values\n",
    "data[data['treatment'] == 0]['exposure'].value_counts()"
   ]
  },
  {
   "cell_type": "markdown",
   "metadata": {},
   "source": [
    "#### Sanity Check 2: Can the Features Predict the Target? (Or are at least an improvement over chance model.)\n",
    "- For this check, we're simply confirming an improvement over the log-loss of a baseline model, so we don't worry about train/test split, hyper-parameter tuning, algorithm selection, etc. If we didn't see an improvement, then might be appropriate to explore some of these options.\n",
    "- Similar to the authors, I compare log-loss improvement when predicting the target for the whole dataset, as well as just treatment and control groups separately."
   ]
  },
  {
   "cell_type": "markdown",
   "metadata": {},
   "source": [
    "##### Log-loss improvement for predicting 'visit' on whole dataset"
   ]
  },
  {
   "cell_type": "code",
   "execution_count": 10,
   "metadata": {
    "collapsed": true
   },
   "outputs": [],
   "source": [
    "# train our model\n",
    "model = lm.LogisticRegression()\n",
    "model.fit(data.iloc[:,:12], data['visit']);"
   ]
  },
  {
   "cell_type": "code",
   "execution_count": 11,
   "metadata": {},
   "outputs": [
    {
     "data": {
      "text/plain": [
       "0.10615449409535563"
      ]
     },
     "execution_count": 11,
     "metadata": {},
     "output_type": "execute_result"
    }
   ],
   "source": [
    "# average log-loss for our trained model\n",
    "log_loss_model = metrics.log_loss(data['visit'], model.predict_proba(data.iloc[:,:12]))\n",
    "log_loss_model"
   ]
  },
  {
   "cell_type": "code",
   "execution_count": 12,
   "metadata": {},
   "outputs": [
    {
     "data": {
      "text/plain": [
       "1.397784280702036"
      ]
     },
     "execution_count": 12,
     "metadata": {},
     "output_type": "execute_result"
    }
   ],
   "source": [
    "# average log-loss when predicting 0 for all samples\n",
    "log_loss_baseline = metrics.log_loss(data['visit'], [0]*len(data))\n",
    "log_loss_baseline"
   ]
  },
  {
   "cell_type": "code",
   "execution_count": 13,
   "metadata": {},
   "outputs": [
    {
     "data": {
      "text/plain": [
       "'92.4% improvement over baseline'"
      ]
     },
     "execution_count": 13,
     "metadata": {},
     "output_type": "execute_result"
    }
   ],
   "source": [
    "# log-loss improvement over baseline model\n",
    "str(round(( 1 - log_loss_model / log_loss_baseline ) * 100, 1)) + '% improvement over baseline'"
   ]
  },
  {
   "cell_type": "markdown",
   "metadata": {},
   "source": [
    "##### Log-loss improvement for predicting 'visit' on treatment group"
   ]
  },
  {
   "cell_type": "code",
   "execution_count": 14,
   "metadata": {
    "collapsed": true
   },
   "outputs": [],
   "source": [
    "# train our model\n",
    "model = lm.LogisticRegression()\n",
    "model.fit(data[data['treatment'] == 1].iloc[:,:12], data[data['treatment'] == 1]['visit']);"
   ]
  },
  {
   "cell_type": "code",
   "execution_count": 15,
   "metadata": {},
   "outputs": [
    {
     "data": {
      "text/plain": [
       "0.1117019682598608"
      ]
     },
     "execution_count": 15,
     "metadata": {},
     "output_type": "execute_result"
    }
   ],
   "source": [
    "# average log-loss for our trained model\n",
    "log_loss_model = metrics.log_loss(data[data['treatment'] == 1]['visit'], model.predict_proba(data[data['treatment'] == 1].iloc[:,:12]))\n",
    "log_loss_model"
   ]
  },
  {
   "cell_type": "code",
   "execution_count": 16,
   "metadata": {},
   "outputs": [
    {
     "data": {
      "text/plain": [
       "1.499021382269626"
      ]
     },
     "execution_count": 16,
     "metadata": {},
     "output_type": "execute_result"
    }
   ],
   "source": [
    "# average log-loss when predicting 0 for all samples\n",
    "log_loss_baseline = metrics.log_loss(data[data['treatment'] == 1]['visit'], [0]*len(data[data['treatment'] == 1]))\n",
    "log_loss_baseline"
   ]
  },
  {
   "cell_type": "code",
   "execution_count": 17,
   "metadata": {},
   "outputs": [
    {
     "data": {
      "text/plain": [
       "'92.5% improvement over baseline'"
      ]
     },
     "execution_count": 17,
     "metadata": {},
     "output_type": "execute_result"
    }
   ],
   "source": [
    "# log-loss improvement over baseline model\n",
    "str(round(( 1 - log_loss_model / log_loss_baseline ) * 100, 1)) + '% improvement over baseline'"
   ]
  },
  {
   "cell_type": "markdown",
   "metadata": {},
   "source": [
    "##### Log-loss improvement for predicting 'visit' on control group"
   ]
  },
  {
   "cell_type": "code",
   "execution_count": 18,
   "metadata": {
    "collapsed": true
   },
   "outputs": [],
   "source": [
    "# train our model\n",
    "model = lm.LogisticRegression()\n",
    "model.fit(data[data['treatment'] == 0].iloc[:,:12], data[data['treatment'] == 0]['visit']);"
   ]
  },
  {
   "cell_type": "code",
   "execution_count": 19,
   "metadata": {},
   "outputs": [
    {
     "data": {
      "text/plain": [
       "0.07427827178728018"
      ]
     },
     "execution_count": 19,
     "metadata": {},
     "output_type": "execute_result"
    }
   ],
   "source": [
    "# average log-loss for our trained model\n",
    "log_loss_model = metrics.log_loss(data[data['treatment'] == 0]['visit'], model.predict_proba(data[data['treatment'] == 0].iloc[:,:12]))\n",
    "log_loss_model"
   ]
  },
  {
   "cell_type": "code",
   "execution_count": 20,
   "metadata": {},
   "outputs": [
    {
     "data": {
      "text/plain": [
       "0.8443159462766766"
      ]
     },
     "execution_count": 20,
     "metadata": {},
     "output_type": "execute_result"
    }
   ],
   "source": [
    "# average log-loss when predicting 0 for all samples\n",
    "log_loss_baseline = metrics.log_loss(data[data['treatment'] == 0]['visit'], [0]*len(data[data['treatment'] == 0]))\n",
    "log_loss_baseline"
   ]
  },
  {
   "cell_type": "code",
   "execution_count": 21,
   "metadata": {},
   "outputs": [
    {
     "data": {
      "text/plain": [
       "'91.2% improvement over baseline'"
      ]
     },
     "execution_count": 21,
     "metadata": {},
     "output_type": "execute_result"
    }
   ],
   "source": [
    "# log-loss improvement over baseline model\n",
    "str(round(( 1 - log_loss_model / log_loss_baseline ) * 100, 1)) + '% improvement over baseline'"
   ]
  },
  {
   "cell_type": "markdown",
   "metadata": {},
   "source": [
    "# 3. Calculate Uplift and Evaluate Using Qini\n",
    "Under the Two-Model Method, Uplift is calculated by training two separate probabilistic classifiers on the treatment group and the control group. Uplift is then the difference between the probability of a positive outcome when treated versus the probability of a positive outcome when untreated.\n",
    "\n",
    "The critical issue here is the evaluation of the model. A perfect model is assumed here to be one that assigns the highest uplift scores to those customers who have a positive outcome when treated, and conversely assigns the lowest uplift scores to those customers who have a positive outcome when untreated. In this way, we're assuming that the treatment alone is responsible for the positive outcomes among those treated, while we avoid targeting those customers who have a positive outcome when untreated.\n",
    "\n",
    "#### Qini Coefficient\n",
    "To actually evaluate a model's performance, we employ the Qini coefficient (see [here](https://pdfs.semanticscholar.org/147b/32f3d56566c8654a9999c5477dded233328e.pdf?_ga=2.30068543.1667274219.1569778414-2063726560.1569778414) for the original paper on which the Qini is based). It is similar to AUC-ROC in that we calculate the area under this Qini curve and compare it an optimal model. This ratio comparing the Qini of the trained model against that of a hypothetical optimal model is then what we use to compare model performance. The closer our Qini ratio is to +1, the closer our model is to the optimal uplift model.\n",
    "\n",
    "The Qini coefficient is defined as follows:\n",
    "$$Q_{(\\pi)}(k)=\\sum_{i=1}^{k}\\Bigl(R_\\pi^T(i)-R_\\pi^C(i){{N_\\pi^T(k)} \\over {N_\\pi^C(k)}}\\Bigr)-{k \\over 2}(\\bar{R}^T(k)-\\bar{R}^C(k))$$\n",
    "\n",
    "Please refer to the paper itself (beginning of page 4) for definitions of variables. In what follows I'll show the Python code that allows us to calculate the Qini coefficient for our model, the optimal model, and thus the evaluation ratio."
   ]
  },
  {
   "cell_type": "markdown",
   "metadata": {},
   "source": [
    "### Qini Calculation Steps\n",
    "1. Normalize the data\n",
    "1. Split the data into training and testing portions\n",
    "2. Use the Two-Model Method to train two models on our training data\n",
    "3. Calculate uplift on our testing data as the probability difference of a positive outcome when treated and untreated\n",
    "4. Sort the testing data by uplift score, higher uplift values first\n",
    "5. Calculate the Qini score of this ordered data (we'll use several helper columns as this calculation is based on several cumulative values).\n",
    "6. Compare the Qini score of the ordered testing data against a hypothetical perfect model that perfected ordered the data\n",
    "\n",
    "I'll first run through the steps on a single example, then randomize the train/test split and re-run the Qini calculation 30 times. This will give us a sample of Qini ratios that will allow to us to confirm the quality of our evaluation metric."
   ]
  },
  {
   "cell_type": "markdown",
   "metadata": {},
   "source": [
    "#### Qini Calculation Step 1: Normalize"
   ]
  },
  {
   "cell_type": "code",
   "execution_count": 22,
   "metadata": {
    "collapsed": true
   },
   "outputs": [],
   "source": [
    "# feature columns\n",
    "feature_columns = data.columns[:12]\n",
    "# normalize using min-max scaler\n",
    "for column in feature_columns:\n",
    "    data[column] = ((data[column] - data[column].min() ) / (data[column].max() - data[column].min() ))"
   ]
  },
  {
   "cell_type": "markdown",
   "metadata": {},
   "source": [
    "#### Qini Calculation Step 2: Split Data"
   ]
  },
  {
   "cell_type": "code",
   "execution_count": 23,
   "metadata": {},
   "outputs": [
    {
     "data": {
      "text/plain": [
       "70000"
      ]
     },
     "execution_count": 23,
     "metadata": {},
     "output_type": "execute_result"
    }
   ],
   "source": [
    "# define our split ratio\n",
    "split_index = int(len(data)*0.70)\n",
    "split_index"
   ]
  },
  {
   "cell_type": "code",
   "execution_count": 24,
   "metadata": {
    "collapsed": true
   },
   "outputs": [],
   "source": [
    "# shuffle the data\n",
    "data = data.sample(frac=1).reset_index(drop=True)"
   ]
  },
  {
   "cell_type": "code",
   "execution_count": 25,
   "metadata": {},
   "outputs": [
    {
     "name": "stdout",
     "output_type": "stream",
     "text": [
      "(70000, 16) (30000, 16)\n"
     ]
    }
   ],
   "source": [
    "# split our dataset\n",
    "train_df = data.iloc[:split_index].copy(deep=True)\n",
    "test_df  = data.iloc[split_index:].copy(deep=True)\n",
    "\n",
    "# confirm shapes conform to expectation\n",
    "print(train_df.shape, test_df.shape)"
   ]
  },
  {
   "cell_type": "markdown",
   "metadata": {},
   "source": [
    "#### Qini Calculation Step 3: Train Two Models"
   ]
  },
  {
   "cell_type": "code",
   "execution_count": 26,
   "metadata": {
    "collapsed": true
   },
   "outputs": [],
   "source": [
    "# treatment model\n",
    "model_treat = lm.LogisticRegression()\n",
    "model_treat.fit(train_df[train_df['treatment'] == 1].iloc[:,:12], train_df[train_df['treatment'] == 1]['visit']);\n",
    "\n",
    "# control model\n",
    "model_cntrl = lm.LogisticRegression()\n",
    "model_cntrl.fit(train_df[train_df['treatment'] == 0].iloc[:,:12], train_df[train_df['treatment'] == 0]['visit']);"
   ]
  },
  {
   "cell_type": "markdown",
   "metadata": {},
   "source": [
    "#### Qini Calculation Step 4: Calculate Uplift"
   ]
  },
  {
   "cell_type": "code",
   "execution_count": 27,
   "metadata": {
    "collapsed": true
   },
   "outputs": [],
   "source": [
    "# helper function\n",
    "def calc_uplift(row):\n",
    "    prob_if_treated = model_treat.predict_proba(row[:12].values.reshape(1,-1))[0][1]\n",
    "    prob_if_in_ctrl = model_cntrl.predict_proba(row[:12].values.reshape(1,-1))[0][1]\n",
    "    return prob_if_treated - prob_if_in_ctrl"
   ]
  },
  {
   "cell_type": "code",
   "execution_count": 28,
   "metadata": {
    "collapsed": true
   },
   "outputs": [],
   "source": [
    "# create a new column in our test set, which is the predicted uplift score for each sample\n",
    "test_df['uplift'] = test_df.apply(calc_uplift, axis=1)"
   ]
  },
  {
   "cell_type": "markdown",
   "metadata": {},
   "source": [
    "#### Qini Calculation Step 5: Sort data by uplift score"
   ]
  },
  {
   "cell_type": "code",
   "execution_count": 29,
   "metadata": {
    "collapsed": true
   },
   "outputs": [],
   "source": [
    "# sort our data\n",
    "test_df.sort_values('uplift', ascending=False, inplace=True)\n",
    "test_df.reset_index(drop=True, inplace=True)"
   ]
  },
  {
   "cell_type": "code",
   "execution_count": 30,
   "metadata": {},
   "outputs": [
    {
     "data": {
      "text/html": [
       "<div>\n",
       "<style scoped>\n",
       "    .dataframe tbody tr th:only-of-type {\n",
       "        vertical-align: middle;\n",
       "    }\n",
       "\n",
       "    .dataframe tbody tr th {\n",
       "        vertical-align: top;\n",
       "    }\n",
       "\n",
       "    .dataframe thead th {\n",
       "        text-align: right;\n",
       "    }\n",
       "</style>\n",
       "<table border=\"1\" class=\"dataframe\">\n",
       "  <thead>\n",
       "    <tr style=\"text-align: right;\">\n",
       "      <th></th>\n",
       "      <th>f0</th>\n",
       "      <th>f1</th>\n",
       "      <th>f2</th>\n",
       "      <th>f3</th>\n",
       "      <th>f4</th>\n",
       "      <th>f5</th>\n",
       "      <th>f6</th>\n",
       "      <th>f7</th>\n",
       "      <th>f8</th>\n",
       "      <th>f9</th>\n",
       "      <th>f10</th>\n",
       "      <th>f11</th>\n",
       "      <th>treatment</th>\n",
       "      <th>conversion</th>\n",
       "      <th>visit</th>\n",
       "      <th>exposure</th>\n",
       "      <th>uplift</th>\n",
       "    </tr>\n",
       "  </thead>\n",
       "  <tbody>\n",
       "    <tr>\n",
       "      <th>0</th>\n",
       "      <td>0.929224</td>\n",
       "      <td>0.916734</td>\n",
       "      <td>0.215150</td>\n",
       "      <td>0.011537</td>\n",
       "      <td>0.0</td>\n",
       "      <td>0.715499</td>\n",
       "      <td>0.139694</td>\n",
       "      <td>0.784842</td>\n",
       "      <td>0.434429</td>\n",
       "      <td>0.600336</td>\n",
       "      <td>1.0</td>\n",
       "      <td>0.0</td>\n",
       "      <td>1</td>\n",
       "      <td>0</td>\n",
       "      <td>0</td>\n",
       "      <td>1</td>\n",
       "      <td>0.447053</td>\n",
       "    </tr>\n",
       "    <tr>\n",
       "      <th>1</th>\n",
       "      <td>0.797008</td>\n",
       "      <td>0.952201</td>\n",
       "      <td>0.203410</td>\n",
       "      <td>0.158688</td>\n",
       "      <td>0.0</td>\n",
       "      <td>0.671420</td>\n",
       "      <td>0.333397</td>\n",
       "      <td>0.797000</td>\n",
       "      <td>0.380830</td>\n",
       "      <td>0.394465</td>\n",
       "      <td>1.0</td>\n",
       "      <td>0.0</td>\n",
       "      <td>1</td>\n",
       "      <td>0</td>\n",
       "      <td>1</td>\n",
       "      <td>1</td>\n",
       "      <td>0.430612</td>\n",
       "    </tr>\n",
       "    <tr>\n",
       "      <th>2</th>\n",
       "      <td>0.958718</td>\n",
       "      <td>0.357235</td>\n",
       "      <td>0.146227</td>\n",
       "      <td>0.176860</td>\n",
       "      <td>0.0</td>\n",
       "      <td>0.413482</td>\n",
       "      <td>0.220381</td>\n",
       "      <td>0.735459</td>\n",
       "      <td>0.315113</td>\n",
       "      <td>0.553241</td>\n",
       "      <td>1.0</td>\n",
       "      <td>0.0</td>\n",
       "      <td>1</td>\n",
       "      <td>0</td>\n",
       "      <td>1</td>\n",
       "      <td>0</td>\n",
       "      <td>0.344247</td>\n",
       "    </tr>\n",
       "  </tbody>\n",
       "</table>\n",
       "</div>"
      ],
      "text/plain": [
       "         f0        f1        f2        f3   f4        f5        f6        f7  \\\n",
       "0  0.929224  0.916734  0.215150  0.011537  0.0  0.715499  0.139694  0.784842   \n",
       "1  0.797008  0.952201  0.203410  0.158688  0.0  0.671420  0.333397  0.797000   \n",
       "2  0.958718  0.357235  0.146227  0.176860  0.0  0.413482  0.220381  0.735459   \n",
       "\n",
       "         f8        f9  f10  f11  treatment  conversion  visit  exposure  \\\n",
       "0  0.434429  0.600336  1.0  0.0          1           0      0         1   \n",
       "1  0.380830  0.394465  1.0  0.0          1           0      1         1   \n",
       "2  0.315113  0.553241  1.0  0.0          1           0      1         0   \n",
       "\n",
       "     uplift  \n",
       "0  0.447053  \n",
       "1  0.430612  \n",
       "2  0.344247  "
      ]
     },
     "execution_count": 30,
     "metadata": {},
     "output_type": "execute_result"
    }
   ],
   "source": [
    "# check out the data\n",
    "test_df.head(3)"
   ]
  },
  {
   "cell_type": "markdown",
   "metadata": {},
   "source": [
    "#### Qini Calculation Step 6: Calculate Qini of our test set\n",
    "- for this step, we'll create several helper columns to allow us to more easily calculate the Qini"
   ]
  },
  {
   "cell_type": "code",
   "execution_count": 31,
   "metadata": {
    "collapsed": true
   },
   "outputs": [],
   "source": [
    "# calculate the cumulative number of positive outcomes among treated individuals\n",
    "def calc_tot_num_pos_treat(row):\n",
    "    temp = test_df.iloc[:row.name+1]\n",
    "    return len(temp[(temp['treatment'] == 1) & (temp['visit'] == 1)])\n",
    "\n",
    "# calculate the cumulative number of positive outcomes among untreated individuals (control group)\n",
    "def calc_tot_num_pos_cntrl(row):\n",
    "    temp = test_df.iloc[:row.name+1]\n",
    "    return len(temp[(temp['treatment'] == 0) & (temp['visit'] == 1)])\n",
    "\n",
    "# calculate the cumulative total of the treatment group\n",
    "def calc_tot_num_treat(row):\n",
    "    return sum(test_df.iloc[:row.name+1]['treatment'])\n",
    "\n",
    "# calculate the cumulative total of the control group\n",
    "def calc_tot_num_cntrl(row):\n",
    "    return int(len(test_df.iloc[:row.name+1]) - row['tot_num_treat'])\n",
    "\n",
    "# calculates the qini as we move through the ordered data\n",
    "# as the final Qini is based on area under the curve, we'll be summing each of these values in the final calculation\n",
    "def assign_qini_score(row):\n",
    "    qini = row['tot_num_pos_treat']\n",
    "    if row['tot_num_cntrl'] == 0:\n",
    "        return qini\n",
    "    else:\n",
    "        qini = qini - (row['tot_num_treat'] * (row['tot_num_pos_cntrl'] / row['tot_num_cntrl']))\n",
    "        return qini"
   ]
  },
  {
   "cell_type": "code",
   "execution_count": 32,
   "metadata": {
    "collapsed": true
   },
   "outputs": [],
   "source": [
    "# create our helper columns\n",
    "test_df['tot_num_pos_treat'] = test_df.apply(calc_tot_num_pos_treat, axis=1)\n",
    "test_df['tot_num_pos_cntrl'] = test_df.apply(calc_tot_num_pos_cntrl, axis=1)\n",
    "test_df['tot_num_treat'] = test_df.apply(calc_tot_num_treat, axis=1)\n",
    "test_df['tot_num_cntrl'] = test_df.apply(calc_tot_num_cntrl, axis=1)"
   ]
  },
  {
   "cell_type": "code",
   "execution_count": 33,
   "metadata": {
    "collapsed": true
   },
   "outputs": [],
   "source": [
    "# assign qini score\n",
    "test_df['qini_score'] = test_df.apply(assign_qini_score, axis=1)"
   ]
  },
  {
   "cell_type": "code",
   "execution_count": 34,
   "metadata": {
    "collapsed": true
   },
   "outputs": [],
   "source": [
    "# we need several constants to calculate the final Qini score of our test set\n",
    "TOT_NUM_POS_TREAT = test_df['tot_num_pos_treat'].values[-1]\n",
    "TOT_NUM_POS_CNTRL = test_df['tot_num_pos_cntrl'].values[-1]\n",
    "TOT_NUM_TREAT = test_df['tot_num_treat'].values[-1]\n",
    "TOT_NUM_CNTRL = test_df['tot_num_cntrl'].values[-1]"
   ]
  },
  {
   "cell_type": "code",
   "execution_count": 35,
   "metadata": {},
   "outputs": [
    {
     "data": {
      "text/plain": [
       "4676754"
      ]
     },
     "execution_count": 35,
     "metadata": {},
     "output_type": "execute_result"
    }
   ],
   "source": [
    "# calculate the Qini score of our test set\n",
    "# the absolute value doesn't matter, only its size relative to the optimal model\n",
    "qini_model = test_df['qini_score'].cumsum().values[-1] - \\\n",
    "            (TOT_NUM_POS_TREAT - (TOT_NUM_TREAT*(TOT_NUM_POS_CNTRL / TOT_NUM_CNTRL))) * len(test_df) / 2\n",
    "int(qini_model)"
   ]
  },
  {
   "cell_type": "markdown",
   "metadata": {},
   "source": [
    "#### Qini Calculation Step 7: Compare to Optimal Model"
   ]
  },
  {
   "cell_type": "code",
   "execution_count": 36,
   "metadata": {},
   "outputs": [
    {
     "data": {
      "text/plain": [
       "25175889"
      ]
     },
     "execution_count": 36,
     "metadata": {},
     "output_type": "execute_result"
    }
   ],
   "source": [
    "# calculate the optimal Qini\n",
    "qini_optimal = (TOT_NUM_POS_TREAT**2 / 2) + \\\n",
    "                TOT_NUM_POS_TREAT * (len(test_df) - TOT_NUM_POS_TREAT - TOT_NUM_POS_CNTRL) + \\\n",
    "               (TOT_NUM_POS_CNTRL**2 / 2) - \\\n",
    "               (TOT_NUM_POS_TREAT - (TOT_NUM_TREAT*(TOT_NUM_POS_CNTRL / TOT_NUM_CNTRL))) * len(test_df) / 2\n",
    "int(qini_optimal)"
   ]
  },
  {
   "cell_type": "code",
   "execution_count": 37,
   "metadata": {},
   "outputs": [
    {
     "data": {
      "text/plain": [
       "0.1857632065221253"
      ]
     },
     "execution_count": 37,
     "metadata": {},
     "output_type": "execute_result"
    }
   ],
   "source": [
    "# now we can finally get the Qini ratio!\n",
    "qini_model / qini_optimal"
   ]
  },
  {
   "cell_type": "markdown",
   "metadata": {},
   "source": [
    "### Visualizing the Area Under the Curve\n",
    "- Visualizing the ratio is very helpful in understanding what an optimal ordering of the data would look like, so below we create a graph showing what the Qini would look like when the data is ordered optimally, what it actually looks like with our model, and a baseline when positive outcomes are assumed to be uniformly distributed throughout the dataset."
   ]
  },
  {
   "cell_type": "code",
   "execution_count": 38,
   "metadata": {
    "collapsed": true
   },
   "outputs": [],
   "source": [
    "# optimal line\n",
    "optimal = [i for i in range(TOT_NUM_POS_TREAT)] + \\\n",
    "          [TOT_NUM_POS_TREAT for i in range(len(test_df) - TOT_NUM_POS_TREAT - TOT_NUM_POS_CNTRL)] + \\\n",
    "          [TOT_NUM_POS_TREAT-(TOT_NUM_TREAT*((i+1)/TOT_NUM_CNTRL)) for i in range(TOT_NUM_POS_CNTRL)]\n",
    "        \n",
    "# baseline scenario\n",
    "baseline = [(TOT_NUM_POS_TREAT - (TOT_NUM_TREAT*(TOT_NUM_POS_CNTRL / TOT_NUM_CNTRL))) / len(test_df)*i for i in range(len(test_df))]"
   ]
  },
  {
   "cell_type": "code",
   "execution_count": 52,
   "metadata": {},
   "outputs": [
    {
     "data": {
      "image/png": "[encoded data removed]",
      "text/plain": [
       "<matplotlib.figure.Figure at 0x12742a9b0>"
      ]
     },
     "metadata": {},
     "output_type": "display_data"
    }
   ],
   "source": [
    "plt.figure(figsize=[10,5])\n",
    "\n",
    "plt.xlabel('Total Number of Customers Targeted')\n",
    "plt.ylabel('Number of Incremental Positive Outcomes')\n",
    "\n",
    "plt.plot(test_df['qini_score'], label='model')\n",
    "plt.plot(baseline, label='baseline')\n",
    "plt.plot(optimal, label='optimal')\n",
    "plt.legend(loc='lower right', fontsize='x-large');"
   ]
  },
  {
   "cell_type": "markdown",
   "metadata": {},
   "source": [
    "### Graph Interpretation\n",
    "From the graph above, we can see that almost all of the increase in positive responses among the treatment group is achieved at around the 50% treatment mark.\n",
    "\n",
    "Thus, theoretically we could achieve the same uplift among our customer population when targeting only 50% of this group versus targeting the entire population."
   ]
  },
  {
   "cell_type": "markdown",
   "metadata": {},
   "source": [
    "### Repeat the Qini calculation to Establish Confidence in Evaluation Metric\n",
    "As a final step in this project, I follow the author's lead and rerun the Qini calculation on 30 randomized train/test splits, which generates a sample distribution of Qini ratios we can then use to establish a confidence interval.\n",
    "\n",
    "The code below is the same as above, just grouped together into a for loop"
   ]
  },
  {
   "cell_type": "code",
   "execution_count": null,
   "metadata": {
    "scrolled": true
   },
   "outputs": [],
   "source": [
    "qini_values = []\n",
    "\n",
    "for _ in range(30):\n",
    "    data = data.sample(frac=1).reset_index(drop=True)\n",
    "    \n",
    "    train_df = data.iloc[:split_index].copy(deep=True)\n",
    "    test_df  = data.iloc[split_index:].copy(deep=True)\n",
    "    \n",
    "    model_treat = lm.LogisticRegression()\n",
    "    model_treat.fit(train_df[train_df['treatment'] == 1].iloc[:,:12], train_df[train_df['treatment'] == 1]['visit']);\n",
    "\n",
    "    model_cntrl = lm.LogisticRegression()\n",
    "    model_cntrl.fit(train_df[train_df['treatment'] == 0].iloc[:,:12], train_df[train_df['treatment'] == 0]['visit']);\n",
    "\n",
    "    test_df['uplift'] = test_df.apply(calc_uplift, axis=1)\n",
    "    test_df.sort_values('uplift', ascending=False, inplace=True)\n",
    "    test_df.reset_index(drop=True, inplace=True)\n",
    "    \n",
    "    test_df['tot_num_pos_treat'] = test_df.apply(calc_tot_num_pos_treat, axis=1)\n",
    "    test_df['tot_num_pos_cntrl'] = test_df.apply(calc_tot_num_pos_cntrl, axis=1)\n",
    "    test_df['tot_num_treat'] = test_df.apply(calc_tot_num_treat, axis=1)\n",
    "    test_df['tot_num_cntrl'] = test_df.apply(calc_tot_num_cntrl, axis=1)\n",
    "    \n",
    "    test_df['qini_score'] = test_df.apply(assign_qini_score, axis=1)\n",
    "    \n",
    "    TOT_NUM_POS_TREAT = test_df['tot_num_pos_treat'].values[-1]\n",
    "    TOT_NUM_POS_CNTRL = test_df['tot_num_pos_cntrl'].values[-1]\n",
    "    TOT_NUM_TREAT = test_df['tot_num_treat'].values[-1]\n",
    "    TOT_NUM_CNTRL = test_df['tot_num_cntrl'].values[-1]\n",
    "    \n",
    "    qini_optimal = (TOT_NUM_POS_TREAT**2 / 2) + \\\n",
    "                    TOT_NUM_POS_TREAT * (len(test_df) - TOT_NUM_POS_TREAT - TOT_NUM_POS_CNTRL) + \\\n",
    "                   (TOT_NUM_POS_CNTRL**2 / 2) - \\\n",
    "                   (TOT_NUM_POS_TREAT - (TOT_NUM_TREAT*(TOT_NUM_POS_CNTRL / TOT_NUM_CNTRL))) * len(test_df) / 2\n",
    "    \n",
    "    qini_model = test_df['qini_score'].cumsum().values[-1] - (TOT_NUM_POS_TREAT - (TOT_NUM_TREAT*(TOT_NUM_POS_CNTRL / TOT_NUM_CNTRL))) * len(test_df) / 2\n",
    "    \n",
    "    qini_values.append(qini_model / qini_optimal)"
   ]
  },
  {
   "cell_type": "code",
   "execution_count": 68,
   "metadata": {},
   "outputs": [
    {
     "name": "stdout",
     "output_type": "stream",
     "text": [
      "['0.155579', '0.188347', '0.149670', '0.157031', '0.197284']\n",
      "['0.188347', '0.149670', '0.157031', '0.197284', '0.198163']\n",
      "['0.149670', '0.157031', '0.197284', '0.198163', '0.173274']\n",
      "['0.157031', '0.197284', '0.198163', '0.173274', '0.233442']\n",
      "['0.197284', '0.198163', '0.173274', '0.233442', '0.203615']\n",
      "['0.198163', '0.173274', '0.233442', '0.203615', '0.144581']\n"
     ]
    }
   ],
   "source": [
    "# pretty print our Qini sample\n",
    "for i in range(6):\n",
    "    print(['{0:.6f}'.format(val) for val in qini_values][i:i+5])"
   ]
  },
  {
   "cell_type": "markdown",
   "metadata": {},
   "source": [
    "#### Confidence Interval for Qini ratios\n",
    "Our confidence interval range is calculated as follows:\n",
    "$$CI=\\Bigl(\\bar{x}-t^*{s \\over \\sqrt{n}}, \\bar{x}+t^*{s \\over \\sqrt{n}}\\Bigr)$$\n",
    "\n",
    "where $\\bar{x}$ is sample mean, $t^*$ is critical t-score, $s$ is sample standard deviation, and $n$ is number of observations.\n",
    "\n",
    "In our case, $t^*$ will be based on 29 degrees of freedom and a confidence level of 10%."
   ]
  },
  {
   "cell_type": "code",
   "execution_count": 53,
   "metadata": {
    "collapsed": true
   },
   "outputs": [],
   "source": [
    "# critical t-score for 29 degrees of freedom & confidence level of 10%\n",
    "t_score = 1.699"
   ]
  },
  {
   "cell_type": "code",
   "execution_count": 55,
   "metadata": {
    "collapsed": true
   },
   "outputs": [],
   "source": [
    "# sample standard deviation\n",
    "std = np.std(qini_values)\n",
    "# sqrt of number of observations\n",
    "sqrt_n = np.sqrt(len(qini_values))"
   ]
  },
  {
   "cell_type": "code",
   "execution_count": 56,
   "metadata": {},
   "outputs": [
    {
     "data": {
      "text/plain": [
       "0.007698697033717326"
      ]
     },
     "execution_count": 56,
     "metadata": {},
     "output_type": "execute_result"
    }
   ],
   "source": [
    "# confidence interval +/-\n",
    "CI_range = t_score * (std / sqrt_n)\n",
    "CI_range"
   ]
  },
  {
   "cell_type": "code",
   "execution_count": 59,
   "metadata": {},
   "outputs": [
    {
     "name": "stdout",
     "output_type": "stream",
     "text": [
      "0.19882567345224791 0.18342827938481324\n"
     ]
    }
   ],
   "source": [
    "# confidence interval\n",
    "print(np.mean(qini_values) + CI_range, np.mean(qini_values) - CI_range)"
   ]
  },
  {
   "cell_type": "markdown",
   "metadata": {},
   "source": [
    "# Conclusion:\n",
    "Uplift modeling is an important concept when looking to increase business performance through targeted advertising, while simultaneously trying to spend as little as possible. The difficult question, of course, is who should we target with an advertising campaign, and who should we avoid?\n",
    "\n",
    "By conducting an experiment with random assignment to treatment and control groups, we're able to establish causality with our advertising campaign. Comparing the response rates of the treatment and control groups gives us some idea of the effectiveness of our advertising campaign, however it's possible to go one step further and model the uplift of individual customers, so that know the type of customer to target in the future, and who should be avoided.\n",
    "\n",
    "The Two-Model Method is a basic approach that lets us calculate this uplift on an individual basis, while the Qini provides a nice evaluation metric on which to judge the classification performance of our model. \n",
    "\n",
    "### Next Steps:\n",
    "- rerun evaluation using *conversion* target, rather than *visit*\n",
    "- explore different classification algorithms (the literature notes unique approaches to uplift modeling using tree-based methods as well as SVM)\n",
    "- explore different uplift modeling methods beside the Two-Model Method. The authors themselves use Revert Label, which is not explored here but would be a relatively easy extension of the uplift modeling framework. \n",
    "- explore different evaluation metrics. For example, [this project](https://medium.com/datadriveninvestor/simple-machine-learning-techniques-to-improve-your-marketing-strategy-demystifying-uplift-models-dc4fb3f927a2) looked at Starbucks purchase data and used Incremental Response Rate and Net Incremental Revenue to evaluate the uplift models\n",
    "- Create uplift models for different datasets, besides CRITEO. Could use the Starbucks dataset mentioned above, or the [Hillstrom dataset](https://blog.minethatdata.com/2008/05/best-answer-e-mail-analytics-challenge.html) referenced by the CRITEO authors "
   ]
  }
 ],
 "metadata": {
  "kernelspec": {
   "display_name": "Python 3",
   "language": "python",
   "name": "python3"
  },
  "language_info": {
   "codemirror_mode": {
    "name": "ipython",
    "version": 3
   },
   "file_extension": ".py",
   "mimetype": "text/x-python",
   "name": "python",
   "nbconvert_exporter": "python",
   "pygments_lexer": "ipython3",
   "version": "3.6.1"
  }
 },
 "nbformat": 4,
 "nbformat_minor": 2
}
